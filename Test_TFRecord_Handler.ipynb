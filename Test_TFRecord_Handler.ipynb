{
  "nbformat": 4,
  "nbformat_minor": 0,
  "metadata": {
    "colab": {
      "name": "Test-TFRecord-Handler.ipynb",
      "provenance": [],
      "collapsed_sections": [
        "fsDZdUEODlDf",
        "xBARDKlCFaa1",
        "Yw17Bb5uEpiB"
      ]
    },
    "kernelspec": {
      "name": "python3",
      "display_name": "Python 3"
    },
    "widgets": {
      "application/vnd.jupyter.widget-state+json": {
        "3075091929cc412d99cd96a69b417d2a": {
          "model_module": "@jupyter-widgets/controls",
          "model_name": "HBoxModel",
          "state": {
            "_view_name": "HBoxView",
            "_dom_classes": [],
            "_model_name": "HBoxModel",
            "_view_module": "@jupyter-widgets/controls",
            "_model_module_version": "1.5.0",
            "_view_count": null,
            "_view_module_version": "1.5.0",
            "box_style": "",
            "layout": "IPY_MODEL_2a83c22f82934dfb922fb14a67284b99",
            "_model_module": "@jupyter-widgets/controls",
            "children": [
              "IPY_MODEL_0112f2ddba8a44718e53cb982b18c8a0",
              "IPY_MODEL_af86135dc7274c30995e67833b336396"
            ]
          }
        },
        "2a83c22f82934dfb922fb14a67284b99": {
          "model_module": "@jupyter-widgets/base",
          "model_name": "LayoutModel",
          "state": {
            "_view_name": "LayoutView",
            "grid_template_rows": null,
            "right": null,
            "justify_content": null,
            "_view_module": "@jupyter-widgets/base",
            "overflow": null,
            "_model_module_version": "1.2.0",
            "_view_count": null,
            "flex_flow": null,
            "width": null,
            "min_width": null,
            "border": null,
            "align_items": null,
            "bottom": null,
            "_model_module": "@jupyter-widgets/base",
            "top": null,
            "grid_column": null,
            "overflow_y": null,
            "overflow_x": null,
            "grid_auto_flow": null,
            "grid_area": null,
            "grid_template_columns": null,
            "flex": null,
            "_model_name": "LayoutModel",
            "justify_items": null,
            "grid_row": null,
            "max_height": null,
            "align_content": null,
            "visibility": null,
            "align_self": null,
            "height": null,
            "min_height": null,
            "padding": null,
            "grid_auto_rows": null,
            "grid_gap": null,
            "max_width": null,
            "order": null,
            "_view_module_version": "1.2.0",
            "grid_template_areas": null,
            "object_position": null,
            "object_fit": null,
            "grid_auto_columns": null,
            "margin": null,
            "display": null,
            "left": null
          }
        },
        "0112f2ddba8a44718e53cb982b18c8a0": {
          "model_module": "@jupyter-widgets/controls",
          "model_name": "FloatProgressModel",
          "state": {
            "_view_name": "ProgressView",
            "style": "IPY_MODEL_8931491cfcf54880803b7fd0c1b057bb",
            "_dom_classes": [],
            "description": "100%",
            "_model_name": "FloatProgressModel",
            "bar_style": "success",
            "max": 2000,
            "_view_module": "@jupyter-widgets/controls",
            "_model_module_version": "1.5.0",
            "value": 2000,
            "_view_count": null,
            "_view_module_version": "1.5.0",
            "orientation": "horizontal",
            "min": 0,
            "description_tooltip": null,
            "_model_module": "@jupyter-widgets/controls",
            "layout": "IPY_MODEL_83799fe212d14b61a728ece4057a8bd6"
          }
        },
        "af86135dc7274c30995e67833b336396": {
          "model_module": "@jupyter-widgets/controls",
          "model_name": "HTMLModel",
          "state": {
            "_view_name": "HTMLView",
            "style": "IPY_MODEL_335d0445abf0480a951e4ea6c1b3f562",
            "_dom_classes": [],
            "description": "",
            "_model_name": "HTMLModel",
            "placeholder": "​",
            "_view_module": "@jupyter-widgets/controls",
            "_model_module_version": "1.5.0",
            "value": " 2000/2000 [00:15&lt;00:00, 132.39it/s]",
            "_view_count": null,
            "_view_module_version": "1.5.0",
            "description_tooltip": null,
            "_model_module": "@jupyter-widgets/controls",
            "layout": "IPY_MODEL_89064e8c11d946f78d41c213ad7dbe03"
          }
        },
        "8931491cfcf54880803b7fd0c1b057bb": {
          "model_module": "@jupyter-widgets/controls",
          "model_name": "ProgressStyleModel",
          "state": {
            "_view_name": "StyleView",
            "_model_name": "ProgressStyleModel",
            "description_width": "initial",
            "_view_module": "@jupyter-widgets/base",
            "_model_module_version": "1.5.0",
            "_view_count": null,
            "_view_module_version": "1.2.0",
            "bar_color": null,
            "_model_module": "@jupyter-widgets/controls"
          }
        },
        "83799fe212d14b61a728ece4057a8bd6": {
          "model_module": "@jupyter-widgets/base",
          "model_name": "LayoutModel",
          "state": {
            "_view_name": "LayoutView",
            "grid_template_rows": null,
            "right": null,
            "justify_content": null,
            "_view_module": "@jupyter-widgets/base",
            "overflow": null,
            "_model_module_version": "1.2.0",
            "_view_count": null,
            "flex_flow": null,
            "width": null,
            "min_width": null,
            "border": null,
            "align_items": null,
            "bottom": null,
            "_model_module": "@jupyter-widgets/base",
            "top": null,
            "grid_column": null,
            "overflow_y": null,
            "overflow_x": null,
            "grid_auto_flow": null,
            "grid_area": null,
            "grid_template_columns": null,
            "flex": null,
            "_model_name": "LayoutModel",
            "justify_items": null,
            "grid_row": null,
            "max_height": null,
            "align_content": null,
            "visibility": null,
            "align_self": null,
            "height": null,
            "min_height": null,
            "padding": null,
            "grid_auto_rows": null,
            "grid_gap": null,
            "max_width": null,
            "order": null,
            "_view_module_version": "1.2.0",
            "grid_template_areas": null,
            "object_position": null,
            "object_fit": null,
            "grid_auto_columns": null,
            "margin": null,
            "display": null,
            "left": null
          }
        },
        "335d0445abf0480a951e4ea6c1b3f562": {
          "model_module": "@jupyter-widgets/controls",
          "model_name": "DescriptionStyleModel",
          "state": {
            "_view_name": "StyleView",
            "_model_name": "DescriptionStyleModel",
            "description_width": "",
            "_view_module": "@jupyter-widgets/base",
            "_model_module_version": "1.5.0",
            "_view_count": null,
            "_view_module_version": "1.2.0",
            "_model_module": "@jupyter-widgets/controls"
          }
        },
        "89064e8c11d946f78d41c213ad7dbe03": {
          "model_module": "@jupyter-widgets/base",
          "model_name": "LayoutModel",
          "state": {
            "_view_name": "LayoutView",
            "grid_template_rows": null,
            "right": null,
            "justify_content": null,
            "_view_module": "@jupyter-widgets/base",
            "overflow": null,
            "_model_module_version": "1.2.0",
            "_view_count": null,
            "flex_flow": null,
            "width": null,
            "min_width": null,
            "border": null,
            "align_items": null,
            "bottom": null,
            "_model_module": "@jupyter-widgets/base",
            "top": null,
            "grid_column": null,
            "overflow_y": null,
            "overflow_x": null,
            "grid_auto_flow": null,
            "grid_area": null,
            "grid_template_columns": null,
            "flex": null,
            "_model_name": "LayoutModel",
            "justify_items": null,
            "grid_row": null,
            "max_height": null,
            "align_content": null,
            "visibility": null,
            "align_self": null,
            "height": null,
            "min_height": null,
            "padding": null,
            "grid_auto_rows": null,
            "grid_gap": null,
            "max_width": null,
            "order": null,
            "_view_module_version": "1.2.0",
            "grid_template_areas": null,
            "object_position": null,
            "object_fit": null,
            "grid_auto_columns": null,
            "margin": null,
            "display": null,
            "left": null
          }
        }
      }
    }
  },
  "cells": [
    {
      "cell_type": "markdown",
      "metadata": {
        "id": "Qdf_huGKgPO8",
        "colab_type": "text"
      },
      "source": [
        "# Import Modules"
      ]
    },
    {
      "cell_type": "code",
      "metadata": {
        "id": "FV2jlaUEo522",
        "colab_type": "code",
        "colab": {
          "base_uri": "https://localhost:8080/",
          "height": 119
        },
        "outputId": "a7d16c6d-293e-4759-8054-f9df7912e7f1"
      },
      "source": [
        "import os\n",
        "\n",
        "!git clone https://github.com/m-zayan/tfrecord-handler.git\n",
        "\n",
        "os.chdir('/content/tfrecord-handler/')"
      ],
      "execution_count": 1,
      "outputs": [
        {
          "output_type": "stream",
          "text": [
            "Cloning into 'tfrecord-handler'...\n",
            "remote: Enumerating objects: 13, done.\u001b[K\n",
            "remote: Counting objects:   7% (1/13)\u001b[K\rremote: Counting objects:  15% (2/13)\u001b[K\rremote: Counting objects:  23% (3/13)\u001b[K\rremote: Counting objects:  30% (4/13)\u001b[K\rremote: Counting objects:  38% (5/13)\u001b[K\rremote: Counting objects:  46% (6/13)\u001b[K\rremote: Counting objects:  53% (7/13)\u001b[K\rremote: Counting objects:  61% (8/13)\u001b[K\rremote: Counting objects:  69% (9/13)\u001b[K\rremote: Counting objects:  76% (10/13)\u001b[K\rremote: Counting objects:  84% (11/13)\u001b[K\rremote: Counting objects:  92% (12/13)\u001b[K\rremote: Counting objects: 100% (13/13)\u001b[K\rremote: Counting objects: 100% (13/13), done.\u001b[K\n",
            "remote: Compressing objects:  10% (1/10)\u001b[K\rremote: Compressing objects:  20% (2/10)\u001b[K\rremote: Compressing objects:  30% (3/10)\u001b[K\rremote: Compressing objects:  40% (4/10)\u001b[K\rremote: Compressing objects:  50% (5/10)\u001b[K\rremote: Compressing objects:  60% (6/10)\u001b[K\rremote: Compressing objects:  70% (7/10)\u001b[K\rremote: Compressing objects:  80% (8/10)\u001b[K\rremote: Compressing objects:  90% (9/10)\u001b[K\rremote: Compressing objects: 100% (10/10)\u001b[K\rremote: Compressing objects: 100% (10/10), done.\u001b[K\n",
            "Unpacking objects:   7% (1/13)   \rUnpacking objects:  15% (2/13)   \rUnpacking objects:  23% (3/13)   \rUnpacking objects:  30% (4/13)   \rUnpacking objects:  38% (5/13)   \rUnpacking objects:  46% (6/13)   \rremote: Total 13 (delta 2), reused 5 (delta 0), pack-reused 0\u001b[K\n",
            "Unpacking objects:  53% (7/13)   \rUnpacking objects:  61% (8/13)   \rUnpacking objects:  69% (9/13)   \rUnpacking objects:  76% (10/13)   \rUnpacking objects:  84% (11/13)   \rUnpacking objects:  92% (12/13)   \rUnpacking objects: 100% (13/13)   \rUnpacking objects: 100% (13/13), done.\n"
          ],
          "name": "stdout"
        }
      ]
    },
    {
      "cell_type": "code",
      "metadata": {
        "id": "QMCIjjhRE2dE",
        "colab_type": "code",
        "colab": {}
      },
      "source": [
        "from glob import glob\n",
        "\n",
        "from IPython.display import display\n",
        "import matplotlib.pyplot as plt\n",
        "\n",
        "import numpy as np\n",
        "import pandas as pd\n",
        "\n",
        "import tensorflow as tf\n",
        "\n",
        "# handler\n",
        "from tfrecord_handler.io import TfRecordWriter, TfRecordReader"
      ],
      "execution_count": 2,
      "outputs": []
    },
    {
      "cell_type": "markdown",
      "metadata": {
        "id": "fsDZdUEODlDf",
        "colab_type": "text"
      },
      "source": [
        "# Download dataset"
      ]
    },
    {
      "cell_type": "code",
      "metadata": {
        "id": "LwanfQL-DnyK",
        "colab_type": "code",
        "colab": {
          "base_uri": "https://localhost:8080/",
          "height": 0
        },
        "outputId": "3783b9b3-cb52-4824-dc16-26a535104432"
      },
      "source": [
        "url = 'https://www.ece.nus.edu.sg/stfpage/elepv/NUS-HandSet/NUS-Hand-Posture-Dataset-II.zip'\n",
        "fname = 'NUS-Hand-Posture-Dataset-II.zip'\n",
        "\n",
        "tf.keras.utils.get_file(fname, url, extract=True, archive_format='zip')"
      ],
      "execution_count": 3,
      "outputs": [
        {
          "output_type": "stream",
          "text": [
            "Downloading data from https://www.ece.nus.edu.sg/stfpage/elepv/NUS-HandSet/NUS-Hand-Posture-Dataset-II.zip\n",
            "77234176/77233719 [==============================] - 53s 1us/step\n"
          ],
          "name": "stdout"
        },
        {
          "output_type": "execute_result",
          "data": {
            "application/vnd.google.colaboratory.intrinsic+json": {
              "type": "string"
            },
            "text/plain": [
              "'/root/.keras/datasets/NUS-Hand-Posture-Dataset-II.zip'"
            ]
          },
          "metadata": {
            "tags": []
          },
          "execution_count": 3
        }
      ]
    },
    {
      "cell_type": "code",
      "metadata": {
        "id": "nxGAzndcFNcO",
        "colab_type": "code",
        "colab": {}
      },
      "source": [
        "main_path = '/root/.keras/datasets/'\n",
        "fname = os.listdir(main_path)[0]\n",
        "\n",
        "path = os.path.join(main_path, fname)\n",
        "\n",
        "folders = ['Hand Postures', 'Hand Postures with human noise']"
      ],
      "execution_count": 4,
      "outputs": []
    },
    {
      "cell_type": "markdown",
      "metadata": {
        "id": "xBARDKlCFaa1",
        "colab_type": "text"
      },
      "source": [
        "# Files as dataframe"
      ]
    },
    {
      "cell_type": "code",
      "metadata": {
        "id": "Cs3HRYWESdkE",
        "colab_type": "code",
        "colab": {}
      },
      "source": [
        "def is_image(row):\n",
        "  \n",
        "  ext = ['.jpg', '.png', '.jpeg']\n",
        "\n",
        "  if os.path.splitext(row)[-1].lower() not in ext:\n",
        "    print(row)\n",
        "    return None\n",
        "  else:\n",
        "    return row"
      ],
      "execution_count": 5,
      "outputs": []
    },
    {
      "cell_type": "code",
      "metadata": {
        "id": "5Qdrvlhfhe95",
        "colab_type": "code",
        "colab": {}
      },
      "source": [
        "def encode_class(classes):\n",
        "\n",
        "  unique = np.unique(classes)\n",
        "  y = classes.to_numpy()\n",
        "\n",
        "  return (y.reshape(-1, 1) == unique).argmax(axis=1)"
      ],
      "execution_count": 6,
      "outputs": []
    },
    {
      "cell_type": "code",
      "metadata": {
        "id": "0PW5oINEFdna",
        "colab_type": "code",
        "colab": {
          "base_uri": "https://localhost:8080/",
          "height": 0
        },
        "outputId": "c76e9625-f77d-4a76-e5b0-915bef65a1f0"
      },
      "source": [
        "data = {}\n",
        "\n",
        "for f in folders:\n",
        "  files = os.listdir(os.path.join(path, f))\n",
        "  \n",
        "  print(f)\n",
        "  \n",
        "  data[f] = {'image': [], 'class': []}\n",
        "\n",
        "  for fname in files:\n",
        "    fpath = os.path.join(path + '/' + f, fname)\n",
        "    data[f]['image'].append(fpath)\n",
        "    data[f]['class'].append(fname[0])"
      ],
      "execution_count": 7,
      "outputs": [
        {
          "output_type": "stream",
          "text": [
            "Hand Postures\n",
            "Hand Postures with human noise\n"
          ],
          "name": "stdout"
        }
      ]
    },
    {
      "cell_type": "code",
      "metadata": {
        "id": "bfGSivIOJE4_",
        "colab_type": "code",
        "colab": {
          "base_uri": "https://localhost:8080/",
          "height": 0
        },
        "outputId": "e16ec645-d1ab-4feb-bc56-a861a2da2819"
      },
      "source": [
        "df_1 = pd.DataFrame(data['Hand Postures'])\n",
        "df_2 = pd.DataFrame(data['Hand Postures with human noise'])\n",
        "\n",
        "df_1['image'] = df_1['image'].apply(is_image)\n",
        "df_1.dropna(inplace=True)\n",
        "\n",
        "df_2['image'] = df_2['image'].apply(is_image)\n",
        "df_2.dropna(inplace=True)\n",
        "\n",
        "df_1['label'] = encode_class(df_1['class'])\n",
        "df_2['label'] = encode_class(df_2['class'])"
      ],
      "execution_count": 8,
      "outputs": [
        {
          "output_type": "stream",
          "text": [
            "/root/.keras/datasets/NUS Hand Posture dataset-II/Hand Postures/Thumbs.db\n",
            "/root/.keras/datasets/NUS Hand Posture dataset-II/Hand Postures with human noise/Thumbs.db\n"
          ],
          "name": "stdout"
        }
      ]
    },
    {
      "cell_type": "code",
      "metadata": {
        "id": "_Fgq78nWJsct",
        "colab_type": "code",
        "colab": {
          "base_uri": "https://localhost:8080/",
          "height": 0
        },
        "outputId": "cbc52f4a-3143-4bed-d6cd-092be2ffb7fe"
      },
      "source": [
        "display(df_1.head(2))\n",
        "\n",
        "print('=' * 50)\n",
        "\n",
        "display(df_2.head(2))"
      ],
      "execution_count": 9,
      "outputs": [
        {
          "output_type": "display_data",
          "data": {
            "text/html": [
              "<div>\n",
              "<style scoped>\n",
              "    .dataframe tbody tr th:only-of-type {\n",
              "        vertical-align: middle;\n",
              "    }\n",
              "\n",
              "    .dataframe tbody tr th {\n",
              "        vertical-align: top;\n",
              "    }\n",
              "\n",
              "    .dataframe thead th {\n",
              "        text-align: right;\n",
              "    }\n",
              "</style>\n",
              "<table border=\"1\" class=\"dataframe\">\n",
              "  <thead>\n",
              "    <tr style=\"text-align: right;\">\n",
              "      <th></th>\n",
              "      <th>image</th>\n",
              "      <th>class</th>\n",
              "      <th>label</th>\n",
              "    </tr>\n",
              "  </thead>\n",
              "  <tbody>\n",
              "    <tr>\n",
              "      <th>0</th>\n",
              "      <td>/root/.keras/datasets/NUS Hand Posture dataset...</td>\n",
              "      <td>i</td>\n",
              "      <td>8</td>\n",
              "    </tr>\n",
              "    <tr>\n",
              "      <th>1</th>\n",
              "      <td>/root/.keras/datasets/NUS Hand Posture dataset...</td>\n",
              "      <td>h</td>\n",
              "      <td>7</td>\n",
              "    </tr>\n",
              "  </tbody>\n",
              "</table>\n",
              "</div>"
            ],
            "text/plain": [
              "                                               image class  label\n",
              "0  /root/.keras/datasets/NUS Hand Posture dataset...     i      8\n",
              "1  /root/.keras/datasets/NUS Hand Posture dataset...     h      7"
            ]
          },
          "metadata": {
            "tags": []
          }
        },
        {
          "output_type": "stream",
          "text": [
            "==================================================\n"
          ],
          "name": "stdout"
        },
        {
          "output_type": "display_data",
          "data": {
            "text/html": [
              "<div>\n",
              "<style scoped>\n",
              "    .dataframe tbody tr th:only-of-type {\n",
              "        vertical-align: middle;\n",
              "    }\n",
              "\n",
              "    .dataframe tbody tr th {\n",
              "        vertical-align: top;\n",
              "    }\n",
              "\n",
              "    .dataframe thead th {\n",
              "        text-align: right;\n",
              "    }\n",
              "</style>\n",
              "<table border=\"1\" class=\"dataframe\">\n",
              "  <thead>\n",
              "    <tr style=\"text-align: right;\">\n",
              "      <th></th>\n",
              "      <th>image</th>\n",
              "      <th>class</th>\n",
              "      <th>label</th>\n",
              "    </tr>\n",
              "  </thead>\n",
              "  <tbody>\n",
              "    <tr>\n",
              "      <th>0</th>\n",
              "      <td>/root/.keras/datasets/NUS Hand Posture dataset...</td>\n",
              "      <td>a</td>\n",
              "      <td>0</td>\n",
              "    </tr>\n",
              "    <tr>\n",
              "      <th>1</th>\n",
              "      <td>/root/.keras/datasets/NUS Hand Posture dataset...</td>\n",
              "      <td>e</td>\n",
              "      <td>4</td>\n",
              "    </tr>\n",
              "  </tbody>\n",
              "</table>\n",
              "</div>"
            ],
            "text/plain": [
              "                                               image class  label\n",
              "0  /root/.keras/datasets/NUS Hand Posture dataset...     a      0\n",
              "1  /root/.keras/datasets/NUS Hand Posture dataset...     e      4"
            ]
          },
          "metadata": {
            "tags": []
          }
        }
      ]
    },
    {
      "cell_type": "markdown",
      "metadata": {
        "id": "Yw17Bb5uEpiB",
        "colab_type": "text"
      },
      "source": [
        "# Test TfRecordWriter"
      ]
    },
    {
      "cell_type": "code",
      "metadata": {
        "id": "PHnJTN9GLLjk",
        "colab_type": "code",
        "colab": {}
      },
      "source": [
        "if not os.path.exists('../train'):\n",
        "  os.mkdir('../train')"
      ],
      "execution_count": 10,
      "outputs": []
    },
    {
      "cell_type": "code",
      "metadata": {
        "id": "L4YDAck9-24-",
        "colab_type": "code",
        "colab": {}
      },
      "source": [
        "writer = TfRecordWriter(shape=(512, 512), n_records=3, image_ext='.jpg')"
      ],
      "execution_count": 11,
      "outputs": []
    },
    {
      "cell_type": "code",
      "metadata": {
        "id": "5R2xG34bLGq-",
        "colab_type": "code",
        "colab": {
          "base_uri": "https://localhost:8080/",
          "height": 66,
          "referenced_widgets": [
            "3075091929cc412d99cd96a69b417d2a",
            "2a83c22f82934dfb922fb14a67284b99",
            "0112f2ddba8a44718e53cb982b18c8a0",
            "af86135dc7274c30995e67833b336396",
            "8931491cfcf54880803b7fd0c1b057bb",
            "83799fe212d14b61a728ece4057a8bd6",
            "335d0445abf0480a951e4ea6c1b3f562",
            "89064e8c11d946f78d41c213ad7dbe03"
          ]
        },
        "outputId": "64c1fd21-3731-40a6-8d8b-5ffd74616021"
      },
      "source": [
        "dtype = {'image': bytes, 'class': str, 'label': int}\n",
        "\n",
        "# from_dataframe\n",
        "writer.from_dataframe(dataframe=df_1, dtypes=dtype, image_key='image',\n",
        "                      pref_fname='train', from_dir=None, to_dir='../train', has_ext=True)"
      ],
      "execution_count": 12,
      "outputs": [
        {
          "output_type": "display_data",
          "data": {
            "application/vnd.jupyter.widget-view+json": {
              "model_id": "3075091929cc412d99cd96a69b417d2a",
              "version_minor": 0,
              "version_major": 2
            },
            "text/plain": [
              "HBox(children=(FloatProgress(value=0.0, max=2000.0), HTML(value='')))"
            ]
          },
          "metadata": {
            "tags": []
          }
        },
        {
          "output_type": "stream",
          "text": [
            "\n"
          ],
          "name": "stdout"
        }
      ]
    },
    {
      "cell_type": "markdown",
      "metadata": {
        "id": "-zW6xRUOVBfQ",
        "colab_type": "text"
      },
      "source": [
        "# Test TfRecordReader"
      ]
    },
    {
      "cell_type": "code",
      "metadata": {
        "id": "pyZ2bxMAVFuF",
        "colab_type": "code",
        "colab": {
          "base_uri": "https://localhost:8080/",
          "height": 34
        },
        "outputId": "06563c8d-90a8-4762-8314-573cf7c25d92"
      },
      "source": [
        "trainRec = glob('../train/*')\n",
        "print(trainRec)"
      ],
      "execution_count": 13,
      "outputs": [
        {
          "output_type": "stream",
          "text": [
            "['../train/train_0.tfrec', '../train/train_2.tfrec', '../train/train_1.tfrec']\n"
          ],
          "name": "stdout"
        }
      ]
    },
    {
      "cell_type": "code",
      "metadata": {
        "id": "5Q9SvRqNWJ8r",
        "colab_type": "code",
        "colab": {}
      },
      "source": [
        "feature_dtype = {'image': 'bytes', 'class': 'str', 'label': 'int64'}\n",
        "\n",
        "processing_func = {'image': lambda x: x / 255.0, 'label': lambda y: tf.cast(y, tf.float32)}\n",
        "\n",
        "reader = TfRecordReader(features_dtype=feature_dtype, image_key='image', tfrecord_shape=(512, 512, 3), shape=(256, 256), channels=3, func=processing_func)"
      ],
      "execution_count": 14,
      "outputs": []
    },
    {
      "cell_type": "code",
      "metadata": {
        "id": "6bGRR4fLWVk2",
        "colab_type": "code",
        "colab": {}
      },
      "source": [
        "AUTOTUNE = tf.data.experimental.AUTOTUNE\n",
        "\n",
        "ignore_order = tf.data.Options()\n",
        "ignore_order.experimental_deterministic = False"
      ],
      "execution_count": 15,
      "outputs": []
    },
    {
      "cell_type": "code",
      "metadata": {
        "id": "jv8IfcJbVki1",
        "colab_type": "code",
        "colab": {}
      },
      "source": [
        "tfData = tf.data.TFRecordDataset(trainRec, num_parallel_reads=AUTOTUNE)\n",
        "tfData = tfData.with_options(ignore_order)\n",
        "\n",
        "# reader\n",
        "tfData = tfData.map(reader.read_tfrecord, num_parallel_calls=AUTOTUNE)\n",
        "tfData = tfData.batch(32)"
      ],
      "execution_count": 16,
      "outputs": []
    },
    {
      "cell_type": "code",
      "metadata": {
        "id": "bKpMfvLZase5",
        "colab_type": "code",
        "colab": {}
      },
      "source": [
        "x, c, y = tfData.as_numpy_iterator().next()"
      ],
      "execution_count": 17,
      "outputs": []
    },
    {
      "cell_type": "code",
      "metadata": {
        "id": "Cpej7i6Xauud",
        "colab_type": "code",
        "colab": {
          "base_uri": "https://localhost:8080/",
          "height": 286
        },
        "outputId": "bc1fe53f-6b4e-4169-8fb8-8eae9c938c6e"
      },
      "source": [
        "plt.imshow(x[0])\n",
        "plt.show()\n",
        "\n",
        "print(f'(Class :{c[0]}, Label :{y[0]})')"
      ],
      "execution_count": 18,
      "outputs": [
        {
          "output_type": "display_data",
          "data": {
            "image/png": "[encoded data removed]",
            "text/plain": [
              "<Figure size 432x288 with 1 Axes>"
            ]
          },
          "metadata": {
            "tags": [],
            "needs_background": "light"
          }
        },
        {
          "output_type": "stream",
          "text": [
            "(Class :b'i', Label :8.0)\n"
          ],
          "name": "stdout"
        }
      ]
    }
  ]
}